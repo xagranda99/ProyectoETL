{
  "cells": [
    {
      "cell_type": "code",
      "execution_count": 1,
      "id": "a01d5b73",
      "metadata": {
        "id": "a01d5b73"
      },
      "outputs": [],
      "source": [
        "import sqlalchemy\n",
        "from sqlalchemy import create_engine\n",
        "from sqlalchemy import Table, Column, Integer, String, MetaData, ForeignKey\n",
        "from sqlalchemy import inspect"
      ]
    },
    {
      "cell_type": "code",
      "execution_count": 5,
      "id": "7b170ecb",
      "metadata": {
        "id": "7b170ecb",
        "outputId": "1deb5493-0d92-4322-e832-a5801648c18d",
        "colab": {
          "base_uri": "https://localhost:8080/"
        }
      },
      "outputs": [
        {
          "output_type": "execute_result",
          "data": {
            "text/plain": [
              "Engine(sqlite:///chinook.db)"
            ]
          },
          "metadata": {},
          "execution_count": 5
        }
      ],
      "source": [
        "# Connect the engine to the database file we'll be using\n",
        "engine = create_engine('sqlite:///chinook.db')\n",
        "engine\n"
      ]
    },
    {
      "cell_type": "markdown",
      "id": "b47f6366",
      "metadata": {
        "id": "b47f6366"
      },
      "source": [
        "# Extract"
      ]
    },
    {
      "cell_type": "code",
      "execution_count": 6,
      "id": "a1233921",
      "metadata": {
        "id": "a1233921"
      },
      "outputs": [],
      "source": [
        "# SQL Expression Language creates metadata that contains objects that define the customers table\n",
        "metadata = MetaData()\n",
        "\n",
        "# This method instantiates the tables that already \n",
        "# exist in the database, which the engine is connected to. \n",
        "metadata.create_all(engine)\n",
        "\n",
        "# Checking this out, we can see the table structure and variable types for the employees table\n",
        "inspector = inspect(engine)"
      ]
    },
    {
      "cell_type": "markdown",
      "id": "19864dba",
      "metadata": {
        "id": "19864dba"
      },
      "source": [
        "# Transform"
      ]
    },
    {
      "cell_type": "code",
      "execution_count": 7,
      "id": "6f21d8ee",
      "metadata": {
        "id": "6f21d8ee"
      },
      "outputs": [],
      "source": [
        "import pandas as pd\n",
        "df = pd.read_sql_query(\"\"\"SELECT i.InvoiceId,\n",
        "       i.CustomerId,\n",
        "       substr(i.InvoiceDate, 1, 10) AS InvoiceDate,\n",
        "       i.BillingAddress,\n",
        "       i.BillingCity,\n",
        "       i.BillingCountry,\n",
        "       count(it.trackId) AS Items,\n",
        "       i.Total\n",
        "  FROM invoices i\n",
        "       INNER JOIN\n",
        "       invoice_items it ON i.invoiceId = it.invoiceId\n",
        " GROUP BY 1;\n",
        "    \"\"\", con=engine.connect())"
      ]
    },
    {
      "cell_type": "code",
      "source": [
        "df1 = pd.read_sql_query(\"\"\"SELECT c.customerId,\n",
        "       c.firstname,\n",
        "       c.lastname,\n",
        "       c.company,\n",
        "       c.address,\n",
        "       c.city,\n",
        "       c.country,\n",
        "       c.state,\n",
        "       c.phone,\n",
        "       c.email,\n",
        "       c.supportrepid\n",
        "  FROM customers c\n",
        " WHERE c.country LIKE 'USA';\n",
        "    \"\"\", con=engine.connect())"
      ],
      "metadata": {
        "id": "tnJ6Rf0YoF4v"
      },
      "id": "tnJ6Rf0YoF4v",
      "execution_count": 8,
      "outputs": []
    },
    {
      "cell_type": "code",
      "source": [
        "df2 = pd.read_sql_query(\"\"\"SELECT e.employeeid,\n",
        "       e.firstname,\n",
        "       e.lastname,\n",
        "       e.title,\n",
        "       e.reportsto,\n",
        "       substr(e.BirthDate, 1, 10) AS BirthDate,\n",
        "       substr(e.HireDate, 1, 10) AS BirthDate,\n",
        "       e.address,\n",
        "       e.city,\n",
        "       e.country,\n",
        "       e.PostalCode,\n",
        "       e.phone,\n",
        "       e.email\n",
        "  FROM employees e;\n",
        "    \"\"\", con=engine.connect())\n"
      ],
      "metadata": {
        "id": "PDrWGninqYv9"
      },
      "id": "PDrWGninqYv9",
      "execution_count": 9,
      "outputs": []
    },
    {
      "cell_type": "code",
      "source": [
        "df3 = pd.read_sql_query(\"\"\"SELECT c.customerId as ID,\n",
        "       c.FIRSTNAME || ' ' || c.LASTNAME AS Cliente,\n",
        "       e.FIRSTNAME || ' ' || e.LASTNAME AS EmpleadoAsignado,\n",
        "       count(DISTINCT g.Name) as 'Cantidad de Generos Comprados',\n",
        "       count(DISTINCT al.Title) as 'Cantidad de Albums Comprados',\n",
        "       sum(it.UnitPrice) AS Total\n",
        "  FROM invoices i\n",
        "       INNER JOIN\n",
        "       customers c ON i.customerId = c.customerId\n",
        "       JOIN\n",
        "       employees e ON c.SupportRepId = e.EmployeeId\n",
        "       JOIN\n",
        "       invoice_items it ON i.invoiceId = it.invoiceId\n",
        "       JOIN\n",
        "       tracks t ON t.trackId = it.trackId\n",
        "       INNER JOIN\n",
        "       genres g ON t.genreId = g.genreId\n",
        "       INNER JOIN\n",
        "       albums al ON t.albumId = al.albumId\n",
        " GROUP BY 1\n",
        " ORDER BY 6 DESC;\n",
        "    \"\"\", con=engine.connect())\n"
      ],
      "metadata": {
        "id": "jOoeJnqIuO-h"
      },
      "id": "jOoeJnqIuO-h",
      "execution_count": 10,
      "outputs": []
    },
    {
      "cell_type": "code",
      "source": [
        "df4 = pd.read_sql_query(\"\"\"SELECT t.Name AS [Nombre canción],\n",
        "       t.UnitPrice AS [Precio unitario],\n",
        "       m.Name AS [Tipo de archivo],\n",
        "       p.Name AS Playlist,\n",
        "       ab.Title AS Album,\n",
        "       art.Name AS Artista,\n",
        "       g.Name AS Genero,\n",
        "       count(v.InvoiceDate) AS VecesComprada\n",
        "  FROM tracks t\n",
        "       LEFT JOIN\n",
        "       media_types mt ON mt.MediaTypeId = t.MediaTypeId\n",
        "       LEFT JOIN\n",
        "       media_types AS m ON t.MediaTypeId = m.MediaTypeId\n",
        "       LEFT JOIN\n",
        "       playlist_track AS pt ON pt.TrackId = t.TrackId\n",
        "       LEFT JOIN\n",
        "       playlists p ON p.PlaylistId = pt.PlaylistId\n",
        "       LEFT JOIN\n",
        "       albums ab ON ab.AlbumId = t.AlbumId\n",
        "       LEFT JOIN\n",
        "       artists art ON art.ArtistId = ab.ArtistId\n",
        "       LEFT JOIN\n",
        "       genres g ON g.GenreId = t.GenreId\n",
        "       JOIN\n",
        "       invoice_items vl ON vl.TrackId = t.TrackId\n",
        "       JOIN\n",
        "       invoices v ON v.InvoiceId = vl.InvoiceId\n",
        " GROUP BY 1\n",
        " ORDER BY 8 DESC;\n",
        "    \"\"\", con=engine.connect())\n",
        "\n",
        "\n"
      ],
      "metadata": {
        "id": "XBMkZUNW0Tus"
      },
      "id": "XBMkZUNW0Tus",
      "execution_count": 22,
      "outputs": []
    },
    {
      "cell_type": "code",
      "execution_count": 12,
      "id": "58c3afca",
      "metadata": {
        "id": "58c3afca",
        "colab": {
          "base_uri": "https://localhost:8080/",
          "height": 287
        },
        "outputId": "06d46e54-90a4-43dd-fdd6-70376509e140"
      },
      "outputs": [
        {
          "output_type": "execute_result",
          "data": {
            "text/html": [
              "\n",
              "  <div id=\"df-c81725e5-51ca-426f-b374-ed54fac74537\">\n",
              "    <div class=\"colab-df-container\">\n",
              "      <div>\n",
              "<style scoped>\n",
              "    .dataframe tbody tr th:only-of-type {\n",
              "        vertical-align: middle;\n",
              "    }\n",
              "\n",
              "    .dataframe tbody tr th {\n",
              "        vertical-align: top;\n",
              "    }\n",
              "\n",
              "    .dataframe thead th {\n",
              "        text-align: right;\n",
              "    }\n",
              "</style>\n",
              "<table border=\"1\" class=\"dataframe\">\n",
              "  <thead>\n",
              "    <tr style=\"text-align: right;\">\n",
              "      <th></th>\n",
              "      <th>InvoiceId</th>\n",
              "      <th>CustomerId</th>\n",
              "      <th>InvoiceDate</th>\n",
              "      <th>BillingAddress</th>\n",
              "      <th>BillingCity</th>\n",
              "      <th>BillingCountry</th>\n",
              "      <th>Items</th>\n",
              "      <th>Total</th>\n",
              "    </tr>\n",
              "  </thead>\n",
              "  <tbody>\n",
              "    <tr>\n",
              "      <th>0</th>\n",
              "      <td>1</td>\n",
              "      <td>2</td>\n",
              "      <td>2009-01-01</td>\n",
              "      <td>Theodor-Heuss-Straße 34</td>\n",
              "      <td>Stuttgart</td>\n",
              "      <td>Germany</td>\n",
              "      <td>2</td>\n",
              "      <td>1.98</td>\n",
              "    </tr>\n",
              "    <tr>\n",
              "      <th>1</th>\n",
              "      <td>2</td>\n",
              "      <td>4</td>\n",
              "      <td>2009-01-02</td>\n",
              "      <td>Ullevålsveien 14</td>\n",
              "      <td>Oslo</td>\n",
              "      <td>Norway</td>\n",
              "      <td>4</td>\n",
              "      <td>3.96</td>\n",
              "    </tr>\n",
              "    <tr>\n",
              "      <th>2</th>\n",
              "      <td>3</td>\n",
              "      <td>8</td>\n",
              "      <td>2009-01-03</td>\n",
              "      <td>Grétrystraat 63</td>\n",
              "      <td>Brussels</td>\n",
              "      <td>Belgium</td>\n",
              "      <td>6</td>\n",
              "      <td>5.94</td>\n",
              "    </tr>\n",
              "    <tr>\n",
              "      <th>3</th>\n",
              "      <td>4</td>\n",
              "      <td>14</td>\n",
              "      <td>2009-01-06</td>\n",
              "      <td>8210 111 ST NW</td>\n",
              "      <td>Edmonton</td>\n",
              "      <td>Canada</td>\n",
              "      <td>9</td>\n",
              "      <td>8.91</td>\n",
              "    </tr>\n",
              "    <tr>\n",
              "      <th>4</th>\n",
              "      <td>5</td>\n",
              "      <td>23</td>\n",
              "      <td>2009-01-11</td>\n",
              "      <td>69 Salem Street</td>\n",
              "      <td>Boston</td>\n",
              "      <td>USA</td>\n",
              "      <td>14</td>\n",
              "      <td>13.86</td>\n",
              "    </tr>\n",
              "  </tbody>\n",
              "</table>\n",
              "</div>\n",
              "      <button class=\"colab-df-convert\" onclick=\"convertToInteractive('df-c81725e5-51ca-426f-b374-ed54fac74537')\"\n",
              "              title=\"Convert this dataframe to an interactive table.\"\n",
              "              style=\"display:none;\">\n",
              "        \n",
              "  <svg xmlns=\"http://www.w3.org/2000/svg\" height=\"24px\"viewBox=\"0 0 24 24\"\n",
              "       width=\"24px\">\n",
              "    <path d=\"M0 0h24v24H0V0z\" fill=\"none\"/>\n",
              "    <path d=\"M18.56 5.44l.94 2.06.94-2.06 2.06-.94-2.06-.94-.94-2.06-.94 2.06-2.06.94zm-11 1L8.5 8.5l.94-2.06 2.06-.94-2.06-.94L8.5 2.5l-.94 2.06-2.06.94zm10 10l.94 2.06.94-2.06 2.06-.94-2.06-.94-.94-2.06-.94 2.06-2.06.94z\"/><path d=\"M17.41 7.96l-1.37-1.37c-.4-.4-.92-.59-1.43-.59-.52 0-1.04.2-1.43.59L10.3 9.45l-7.72 7.72c-.78.78-.78 2.05 0 2.83L4 21.41c.39.39.9.59 1.41.59.51 0 1.02-.2 1.41-.59l7.78-7.78 2.81-2.81c.8-.78.8-2.07 0-2.86zM5.41 20L4 18.59l7.72-7.72 1.47 1.35L5.41 20z\"/>\n",
              "  </svg>\n",
              "      </button>\n",
              "      \n",
              "  <style>\n",
              "    .colab-df-container {\n",
              "      display:flex;\n",
              "      flex-wrap:wrap;\n",
              "      gap: 12px;\n",
              "    }\n",
              "\n",
              "    .colab-df-convert {\n",
              "      background-color: #E8F0FE;\n",
              "      border: none;\n",
              "      border-radius: 50%;\n",
              "      cursor: pointer;\n",
              "      display: none;\n",
              "      fill: #1967D2;\n",
              "      height: 32px;\n",
              "      padding: 0 0 0 0;\n",
              "      width: 32px;\n",
              "    }\n",
              "\n",
              "    .colab-df-convert:hover {\n",
              "      background-color: #E2EBFA;\n",
              "      box-shadow: 0px 1px 2px rgba(60, 64, 67, 0.3), 0px 1px 3px 1px rgba(60, 64, 67, 0.15);\n",
              "      fill: #174EA6;\n",
              "    }\n",
              "\n",
              "    [theme=dark] .colab-df-convert {\n",
              "      background-color: #3B4455;\n",
              "      fill: #D2E3FC;\n",
              "    }\n",
              "\n",
              "    [theme=dark] .colab-df-convert:hover {\n",
              "      background-color: #434B5C;\n",
              "      box-shadow: 0px 1px 3px 1px rgba(0, 0, 0, 0.15);\n",
              "      filter: drop-shadow(0px 1px 2px rgba(0, 0, 0, 0.3));\n",
              "      fill: #FFFFFF;\n",
              "    }\n",
              "  </style>\n",
              "\n",
              "      <script>\n",
              "        const buttonEl =\n",
              "          document.querySelector('#df-c81725e5-51ca-426f-b374-ed54fac74537 button.colab-df-convert');\n",
              "        buttonEl.style.display =\n",
              "          google.colab.kernel.accessAllowed ? 'block' : 'none';\n",
              "\n",
              "        async function convertToInteractive(key) {\n",
              "          const element = document.querySelector('#df-c81725e5-51ca-426f-b374-ed54fac74537');\n",
              "          const dataTable =\n",
              "            await google.colab.kernel.invokeFunction('convertToInteractive',\n",
              "                                                     [key], {});\n",
              "          if (!dataTable) return;\n",
              "\n",
              "          const docLinkHtml = 'Like what you see? Visit the ' +\n",
              "            '<a target=\"_blank\" href=https://colab.research.google.com/notebooks/data_table.ipynb>data table notebook</a>'\n",
              "            + ' to learn more about interactive tables.';\n",
              "          element.innerHTML = '';\n",
              "          dataTable['output_type'] = 'display_data';\n",
              "          await google.colab.output.renderOutput(dataTable, element);\n",
              "          const docLink = document.createElement('div');\n",
              "          docLink.innerHTML = docLinkHtml;\n",
              "          element.appendChild(docLink);\n",
              "        }\n",
              "      </script>\n",
              "    </div>\n",
              "  </div>\n",
              "  "
            ],
            "text/plain": [
              "   InvoiceId  CustomerId InvoiceDate  ... BillingCountry Items  Total\n",
              "0          1           2  2009-01-01  ...        Germany     2   1.98\n",
              "1          2           4  2009-01-02  ...         Norway     4   3.96\n",
              "2          3           8  2009-01-03  ...        Belgium     6   5.94\n",
              "3          4          14  2009-01-06  ...         Canada     9   8.91\n",
              "4          5          23  2009-01-11  ...            USA    14  13.86\n",
              "\n",
              "[5 rows x 8 columns]"
            ]
          },
          "metadata": {},
          "execution_count": 12
        }
      ],
      "source": [
        "df.head()"
      ]
    },
    {
      "cell_type": "code",
      "source": [
        "df1.head()"
      ],
      "metadata": {
        "id": "jR1aQfLwoPlh",
        "colab": {
          "base_uri": "https://localhost:8080/",
          "height": 530
        },
        "outputId": "a65a4d07-04d4-49ee-b9d2-1400c64b3db4"
      },
      "id": "jR1aQfLwoPlh",
      "execution_count": 13,
      "outputs": [
        {
          "output_type": "execute_result",
          "data": {
            "text/html": [
              "\n",
              "  <div id=\"df-1a0d9c27-1f70-431a-ab67-811b7f1bb235\">\n",
              "    <div class=\"colab-df-container\">\n",
              "      <div>\n",
              "<style scoped>\n",
              "    .dataframe tbody tr th:only-of-type {\n",
              "        vertical-align: middle;\n",
              "    }\n",
              "\n",
              "    .dataframe tbody tr th {\n",
              "        vertical-align: top;\n",
              "    }\n",
              "\n",
              "    .dataframe thead th {\n",
              "        text-align: right;\n",
              "    }\n",
              "</style>\n",
              "<table border=\"1\" class=\"dataframe\">\n",
              "  <thead>\n",
              "    <tr style=\"text-align: right;\">\n",
              "      <th></th>\n",
              "      <th>CustomerId</th>\n",
              "      <th>FirstName</th>\n",
              "      <th>LastName</th>\n",
              "      <th>Company</th>\n",
              "      <th>Address</th>\n",
              "      <th>City</th>\n",
              "      <th>Country</th>\n",
              "      <th>State</th>\n",
              "      <th>Phone</th>\n",
              "      <th>Email</th>\n",
              "      <th>SupportRepId</th>\n",
              "    </tr>\n",
              "  </thead>\n",
              "  <tbody>\n",
              "    <tr>\n",
              "      <th>0</th>\n",
              "      <td>16</td>\n",
              "      <td>Frank</td>\n",
              "      <td>Harris</td>\n",
              "      <td>Google Inc.</td>\n",
              "      <td>1600 Amphitheatre Parkway</td>\n",
              "      <td>Mountain View</td>\n",
              "      <td>USA</td>\n",
              "      <td>CA</td>\n",
              "      <td>+1 (650) 253-0000</td>\n",
              "      <td>fharris@google.com</td>\n",
              "      <td>4</td>\n",
              "    </tr>\n",
              "    <tr>\n",
              "      <th>1</th>\n",
              "      <td>17</td>\n",
              "      <td>Jack</td>\n",
              "      <td>Smith</td>\n",
              "      <td>Microsoft Corporation</td>\n",
              "      <td>1 Microsoft Way</td>\n",
              "      <td>Redmond</td>\n",
              "      <td>USA</td>\n",
              "      <td>WA</td>\n",
              "      <td>+1 (425) 882-8080</td>\n",
              "      <td>jacksmith@microsoft.com</td>\n",
              "      <td>5</td>\n",
              "    </tr>\n",
              "    <tr>\n",
              "      <th>2</th>\n",
              "      <td>18</td>\n",
              "      <td>Michelle</td>\n",
              "      <td>Brooks</td>\n",
              "      <td>None</td>\n",
              "      <td>627 Broadway</td>\n",
              "      <td>New York</td>\n",
              "      <td>USA</td>\n",
              "      <td>NY</td>\n",
              "      <td>+1 (212) 221-3546</td>\n",
              "      <td>michelleb@aol.com</td>\n",
              "      <td>3</td>\n",
              "    </tr>\n",
              "    <tr>\n",
              "      <th>3</th>\n",
              "      <td>19</td>\n",
              "      <td>Tim</td>\n",
              "      <td>Goyer</td>\n",
              "      <td>Apple Inc.</td>\n",
              "      <td>1 Infinite Loop</td>\n",
              "      <td>Cupertino</td>\n",
              "      <td>USA</td>\n",
              "      <td>CA</td>\n",
              "      <td>+1 (408) 996-1010</td>\n",
              "      <td>tgoyer@apple.com</td>\n",
              "      <td>3</td>\n",
              "    </tr>\n",
              "    <tr>\n",
              "      <th>4</th>\n",
              "      <td>20</td>\n",
              "      <td>Dan</td>\n",
              "      <td>Miller</td>\n",
              "      <td>None</td>\n",
              "      <td>541 Del Medio Avenue</td>\n",
              "      <td>Mountain View</td>\n",
              "      <td>USA</td>\n",
              "      <td>CA</td>\n",
              "      <td>+1 (650) 644-3358</td>\n",
              "      <td>dmiller@comcast.com</td>\n",
              "      <td>4</td>\n",
              "    </tr>\n",
              "  </tbody>\n",
              "</table>\n",
              "</div>\n",
              "      <button class=\"colab-df-convert\" onclick=\"convertToInteractive('df-1a0d9c27-1f70-431a-ab67-811b7f1bb235')\"\n",
              "              title=\"Convert this dataframe to an interactive table.\"\n",
              "              style=\"display:none;\">\n",
              "        \n",
              "  <svg xmlns=\"http://www.w3.org/2000/svg\" height=\"24px\"viewBox=\"0 0 24 24\"\n",
              "       width=\"24px\">\n",
              "    <path d=\"M0 0h24v24H0V0z\" fill=\"none\"/>\n",
              "    <path d=\"M18.56 5.44l.94 2.06.94-2.06 2.06-.94-2.06-.94-.94-2.06-.94 2.06-2.06.94zm-11 1L8.5 8.5l.94-2.06 2.06-.94-2.06-.94L8.5 2.5l-.94 2.06-2.06.94zm10 10l.94 2.06.94-2.06 2.06-.94-2.06-.94-.94-2.06-.94 2.06-2.06.94z\"/><path d=\"M17.41 7.96l-1.37-1.37c-.4-.4-.92-.59-1.43-.59-.52 0-1.04.2-1.43.59L10.3 9.45l-7.72 7.72c-.78.78-.78 2.05 0 2.83L4 21.41c.39.39.9.59 1.41.59.51 0 1.02-.2 1.41-.59l7.78-7.78 2.81-2.81c.8-.78.8-2.07 0-2.86zM5.41 20L4 18.59l7.72-7.72 1.47 1.35L5.41 20z\"/>\n",
              "  </svg>\n",
              "      </button>\n",
              "      \n",
              "  <style>\n",
              "    .colab-df-container {\n",
              "      display:flex;\n",
              "      flex-wrap:wrap;\n",
              "      gap: 12px;\n",
              "    }\n",
              "\n",
              "    .colab-df-convert {\n",
              "      background-color: #E8F0FE;\n",
              "      border: none;\n",
              "      border-radius: 50%;\n",
              "      cursor: pointer;\n",
              "      display: none;\n",
              "      fill: #1967D2;\n",
              "      height: 32px;\n",
              "      padding: 0 0 0 0;\n",
              "      width: 32px;\n",
              "    }\n",
              "\n",
              "    .colab-df-convert:hover {\n",
              "      background-color: #E2EBFA;\n",
              "      box-shadow: 0px 1px 2px rgba(60, 64, 67, 0.3), 0px 1px 3px 1px rgba(60, 64, 67, 0.15);\n",
              "      fill: #174EA6;\n",
              "    }\n",
              "\n",
              "    [theme=dark] .colab-df-convert {\n",
              "      background-color: #3B4455;\n",
              "      fill: #D2E3FC;\n",
              "    }\n",
              "\n",
              "    [theme=dark] .colab-df-convert:hover {\n",
              "      background-color: #434B5C;\n",
              "      box-shadow: 0px 1px 3px 1px rgba(0, 0, 0, 0.15);\n",
              "      filter: drop-shadow(0px 1px 2px rgba(0, 0, 0, 0.3));\n",
              "      fill: #FFFFFF;\n",
              "    }\n",
              "  </style>\n",
              "\n",
              "      <script>\n",
              "        const buttonEl =\n",
              "          document.querySelector('#df-1a0d9c27-1f70-431a-ab67-811b7f1bb235 button.colab-df-convert');\n",
              "        buttonEl.style.display =\n",
              "          google.colab.kernel.accessAllowed ? 'block' : 'none';\n",
              "\n",
              "        async function convertToInteractive(key) {\n",
              "          const element = document.querySelector('#df-1a0d9c27-1f70-431a-ab67-811b7f1bb235');\n",
              "          const dataTable =\n",
              "            await google.colab.kernel.invokeFunction('convertToInteractive',\n",
              "                                                     [key], {});\n",
              "          if (!dataTable) return;\n",
              "\n",
              "          const docLinkHtml = 'Like what you see? Visit the ' +\n",
              "            '<a target=\"_blank\" href=https://colab.research.google.com/notebooks/data_table.ipynb>data table notebook</a>'\n",
              "            + ' to learn more about interactive tables.';\n",
              "          element.innerHTML = '';\n",
              "          dataTable['output_type'] = 'display_data';\n",
              "          await google.colab.output.renderOutput(dataTable, element);\n",
              "          const docLink = document.createElement('div');\n",
              "          docLink.innerHTML = docLinkHtml;\n",
              "          element.appendChild(docLink);\n",
              "        }\n",
              "      </script>\n",
              "    </div>\n",
              "  </div>\n",
              "  "
            ],
            "text/plain": [
              "   CustomerId FirstName  ...                    Email SupportRepId\n",
              "0          16     Frank  ...       fharris@google.com            4\n",
              "1          17      Jack  ...  jacksmith@microsoft.com            5\n",
              "2          18  Michelle  ...        michelleb@aol.com            3\n",
              "3          19       Tim  ...         tgoyer@apple.com            3\n",
              "4          20       Dan  ...      dmiller@comcast.com            4\n",
              "\n",
              "[5 rows x 11 columns]"
            ]
          },
          "metadata": {},
          "execution_count": 13
        }
      ]
    },
    {
      "cell_type": "code",
      "source": [
        "df2.head();"
      ],
      "metadata": {
        "id": "I7kfYXQkqf27"
      },
      "id": "I7kfYXQkqf27",
      "execution_count": 14,
      "outputs": []
    },
    {
      "cell_type": "code",
      "source": [
        "df3.head();"
      ],
      "metadata": {
        "id": "8BjhOU29uXuJ"
      },
      "id": "8BjhOU29uXuJ",
      "execution_count": 15,
      "outputs": []
    },
    {
      "cell_type": "code",
      "source": [
        "df4.head();"
      ],
      "metadata": {
        "id": "Pej3Xhbr3TXi"
      },
      "id": "Pej3Xhbr3TXi",
      "execution_count": 23,
      "outputs": []
    },
    {
      "cell_type": "markdown",
      "source": [
        "# Load\n"
      ],
      "metadata": {
        "id": "io2A0Skal4SX"
      },
      "id": "io2A0Skal4SX"
    },
    {
      "cell_type": "code",
      "source": [
        "#Export dataframe\n",
        "def load(targetfile, data_to_load):\n",
        "    data_to_load.to_csv(targetfile)\n",
        "\n",
        "targetfile = \"transformed_invoices.csv\"\n",
        "load(targetfile, df)"
      ],
      "metadata": {
        "id": "SnpZSSYfl-vL"
      },
      "id": "SnpZSSYfl-vL",
      "execution_count": 17,
      "outputs": []
    },
    {
      "cell_type": "code",
      "source": [
        "#Export dataframe\n",
        "def load(targetfile, data_to_load):\n",
        "    data_to_load.to_csv(targetfile)\n",
        "\n",
        "targetfile = \"transformed_usa_customers.csv\"\n",
        "load(targetfile, df1)"
      ],
      "metadata": {
        "id": "19pVyONRoSRC"
      },
      "id": "19pVyONRoSRC",
      "execution_count": 18,
      "outputs": []
    },
    {
      "cell_type": "code",
      "source": [
        "#Export dataframe\n",
        "def load(targetfile, data_to_load):\n",
        "    data_to_load.to_csv(targetfile)\n",
        "\n",
        "targetfile = \"transformed_employees.csv\"\n",
        "load(targetfile, df2)"
      ],
      "metadata": {
        "id": "xkeMZaLtqpLF"
      },
      "id": "xkeMZaLtqpLF",
      "execution_count": 19,
      "outputs": []
    },
    {
      "cell_type": "code",
      "source": [
        "#Export dataframe\n",
        "def load(targetfile, data_to_load):\n",
        "    data_to_load.to_csv(targetfile)\n",
        "\n",
        "targetfile = \"transformed_customers_invoices.csv\"\n",
        "load(targetfile, df3)"
      ],
      "metadata": {
        "id": "_yI0D6cAub70"
      },
      "id": "_yI0D6cAub70",
      "execution_count": 20,
      "outputs": []
    },
    {
      "cell_type": "code",
      "source": [
        "#Export dataframe\n",
        "def load(targetfile, data_to_load):\n",
        "    data_to_load.to_csv(targetfile)\n",
        "\n",
        "targetfile = \"transformed_tracks_count.csv\"\n",
        "load(targetfile, df4)"
      ],
      "metadata": {
        "id": "zYQE6i2D3V0d"
      },
      "id": "zYQE6i2D3V0d",
      "execution_count": 24,
      "outputs": []
    }
  ],
  "metadata": {
    "kernelspec": {
      "display_name": "Python 3",
      "language": "python",
      "name": "python3"
    },
    "language_info": {
      "codemirror_mode": {
        "name": "ipython",
        "version": 3
      },
      "file_extension": ".py",
      "mimetype": "text/x-python",
      "name": "python",
      "nbconvert_exporter": "python",
      "pygments_lexer": "ipython3",
      "version": "3.6.10"
    },
    "colab": {
      "name": "ProyectoETL_Granda_Caiza.ipynb",
      "provenance": [],
      "collapsed_sections": []
    }
  },
  "nbformat": 4,
  "nbformat_minor": 5
}